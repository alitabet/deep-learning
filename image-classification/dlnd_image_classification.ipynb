{
 "cells": [
  {
   "cell_type": "markdown",
   "metadata": {
    "collapsed": true
   },
   "source": [
    "# Image Classification\n",
    "In this project, you'll classify images from the [CIFAR-10 dataset](https://www.cs.toronto.edu/~kriz/cifar.html).  The dataset consists of airplanes, dogs, cats, and other objects. You'll preprocess the images, then train a convolutional neural network on all the samples. The images need to be normalized and the labels need to be one-hot encoded.  You'll get to apply what you learned and build a convolutional, max pooling, dropout, and fully connected layers.  At the end, you'll get to see your neural network's predictions on the sample images.\n",
    "## Get the Data\n",
    "Run the following cell to download the [CIFAR-10 dataset for python](https://www.cs.toronto.edu/~kriz/cifar-10-python.tar.gz)."
   ]
  },
  {
   "cell_type": "code",
   "execution_count": 1,
   "metadata": {
    "collapsed": false
   },
   "outputs": [
    {
     "name": "stdout",
     "output_type": "stream",
     "text": [
      "All files found!\n"
     ]
    }
   ],
   "source": [
    "\"\"\"\n",
    "DON'T MODIFY ANYTHING IN THIS CELL THAT IS BELOW THIS LINE\n",
    "\"\"\"\n",
    "from urllib.request import urlretrieve\n",
    "from os.path import isfile, isdir\n",
    "from tqdm import tqdm\n",
    "import problem_unittests as tests\n",
    "import tarfile\n",
    "\n",
    "cifar10_dataset_folder_path = 'cifar-10-batches-py'\n",
    "\n",
    "# Use Floyd's cifar-10 dataset if present\n",
    "floyd_cifar10_location = '/input/cifar-10/python.tar.gz'\n",
    "if isfile(floyd_cifar10_location):\n",
    "    tar_gz_path = floyd_cifar10_location\n",
    "else:\n",
    "    tar_gz_path = 'cifar-10-python.tar.gz'\n",
    "\n",
    "class DLProgress(tqdm):\n",
    "    last_block = 0\n",
    "\n",
    "    def hook(self, block_num=1, block_size=1, total_size=None):\n",
    "        self.total = total_size\n",
    "        self.update((block_num - self.last_block) * block_size)\n",
    "        self.last_block = block_num\n",
    "\n",
    "if not isfile(tar_gz_path):\n",
    "    with DLProgress(unit='B', unit_scale=True, miniters=1, desc='CIFAR-10 Dataset') as pbar:\n",
    "        urlretrieve(\n",
    "            'https://www.cs.toronto.edu/~kriz/cifar-10-python.tar.gz',\n",
    "            tar_gz_path,\n",
    "            pbar.hook)\n",
    "\n",
    "if not isdir(cifar10_dataset_folder_path):\n",
    "    with tarfile.open(tar_gz_path) as tar:\n",
    "        tar.extractall()\n",
    "        tar.close()\n",
    "\n",
    "\n",
    "tests.test_folder_path(cifar10_dataset_folder_path)"
   ]
  },
  {
   "cell_type": "markdown",
   "metadata": {},
   "source": [
    "## Explore the Data\n",
    "The dataset is broken into batches to prevent your machine from running out of memory.  The CIFAR-10 dataset consists of 5 batches, named `data_batch_1`, `data_batch_2`, etc.. Each batch contains the labels and images that are one of the following:\n",
    "* airplane\n",
    "* automobile\n",
    "* bird\n",
    "* cat\n",
    "* deer\n",
    "* dog\n",
    "* frog\n",
    "* horse\n",
    "* ship\n",
    "* truck\n",
    "\n",
    "Understanding a dataset is part of making predictions on the data.  Play around with the code cell below by changing the `batch_id` and `sample_id`. The `batch_id` is the id for a batch (1-5). The `sample_id` is the id for a image and label pair in the batch.\n",
    "\n",
    "Ask yourself \"What are all possible labels?\", \"What is the range of values for the image data?\", \"Are the labels in order or random?\".  Answers to questions like these will help you preprocess the data and end up with better predictions."
   ]
  },
  {
   "cell_type": "code",
   "execution_count": 3,
   "metadata": {
    "collapsed": false
   },
   "outputs": [
    {
     "name": "stdout",
     "output_type": "stream",
     "text": [
      "\n",
      "Stats of batch 2:\n",
      "Samples: 10000\n",
      "Label Counts: {0: 984, 1: 1007, 2: 1010, 3: 995, 4: 1010, 5: 988, 6: 1008, 7: 1026, 8: 987, 9: 985}\n",
      "First 20 Labels: [1, 6, 6, 8, 8, 3, 4, 6, 0, 6, 0, 3, 6, 6, 5, 4, 8, 3, 2, 6]\n",
      "\n",
      "Example of Image 5:\n",
      "Image - Min Value: 3 Max Value: 219\n",
      "Image - Shape: (32, 32, 3)\n",
      "Label - Label Id: 3 Name: cat\n"
     ]
    },
    {
     "data": {
      "image/png": "[encoded data removed]",
      "text/plain": [
       "<matplotlib.figure.Figure at 0x7fd2c192bc50>"
      ]
     },
     "metadata": {
      "image/png": {
       "height": 250,
       "width": 253
      }
     },
     "output_type": "display_data"
    }
   ],
   "source": [
    "%matplotlib inline\n",
    "%config InlineBackend.figure_format = 'retina'\n",
    "\n",
    "import helper\n",
    "import numpy as np\n",
    "\n",
    "# Explore the dataset\n",
    "batch_id = 2\n",
    "sample_id = 5\n",
    "helper.display_stats(cifar10_dataset_folder_path, batch_id, sample_id)"
   ]
  },
  {
   "cell_type": "markdown",
   "metadata": {},
   "source": [
    "## Implement Preprocess Functions\n",
    "### Normalize\n",
    "In the cell below, implement the `normalize` function to take in image data, `x`, and return it as a normalized Numpy array. The values should be in the range of 0 to 1, inclusive.  The return object should be the same shape as `x`."
   ]
  },
  {
   "cell_type": "code",
   "execution_count": 4,
   "metadata": {
    "collapsed": false
   },
   "outputs": [
    {
     "name": "stdout",
     "output_type": "stream",
     "text": [
      "Tests Passed\n"
     ]
    }
   ],
   "source": [
    "def normalize(x):\n",
    "    \"\"\"\n",
    "    Normalize a list of sample image data in the range of 0 to 1\n",
    "    : x: List of image data.  The image shape is (32, 32, 3)\n",
    "    : return: Numpy array of normalize data\n",
    "    \"\"\"\n",
    "    # TODO: Implement Function\n",
    "    return (x - np.min(x)) / (np.max(x) - np.min(x))\n",
    "\n",
    "\n",
    "\"\"\"\n",
    "DON'T MODIFY ANYTHING IN THIS CELL THAT IS BELOW THIS LINE\n",
    "\"\"\"\n",
    "tests.test_normalize(normalize)"
   ]
  },
  {
   "cell_type": "markdown",
   "metadata": {},
   "source": [
    "### One-hot encode\n",
    "Just like the previous code cell, you'll be implementing a function for preprocessing.  This time, you'll implement the `one_hot_encode` function. The input, `x`, are a list of labels.  Implement the function to return the list of labels as One-Hot encoded Numpy array.  The possible values for labels are 0 to 9. The one-hot encoding function should return the same encoding for each value between each call to `one_hot_encode`.  Make sure to save the map of encodings outside the function.\n",
    "\n",
    "Hint: Don't reinvent the wheel."
   ]
  },
  {
   "cell_type": "code",
   "execution_count": 5,
   "metadata": {
    "collapsed": false
   },
   "outputs": [
    {
     "name": "stdout",
     "output_type": "stream",
     "text": [
      "Tests Passed\n"
     ]
    }
   ],
   "source": [
    "def one_hot_encode(x):\n",
    "    \"\"\"\n",
    "    One hot encode a list of sample labels. Return a one-hot encoded vector for each label.\n",
    "    : x: List of sample Labels\n",
    "    : return: Numpy array of one-hot encoded labels\n",
    "    \"\"\"\n",
    "    # TODO: Implement Function\n",
    "    max_vals = 10\n",
    "    return np.eye(max_vals)[x]\n",
    "\n",
    "\n",
    "\"\"\"\n",
    "DON'T MODIFY ANYTHING IN THIS CELL THAT IS BELOW THIS LINE\n",
    "\"\"\"\n",
    "tests.test_one_hot_encode(one_hot_encode)"
   ]
  },
  {
   "cell_type": "markdown",
   "metadata": {},
   "source": [
    "### Randomize Data\n",
    "As you saw from exploring the data above, the order of the samples are randomized.  It doesn't hurt to randomize it again, but you don't need to for this dataset."
   ]
  },
  {
   "cell_type": "markdown",
   "metadata": {},
   "source": [
    "## Preprocess all the data and save it\n",
    "Running the code cell below will preprocess all the CIFAR-10 data and save it to file. The code below also uses 10% of the training data for validation."
   ]
  },
  {
   "cell_type": "code",
   "execution_count": 6,
   "metadata": {
    "collapsed": true
   },
   "outputs": [],
   "source": [
    "\"\"\"\n",
    "DON'T MODIFY ANYTHING IN THIS CELL\n",
    "\"\"\"\n",
    "# Preprocess Training, Validation, and Testing Data\n",
    "helper.preprocess_and_save_data(cifar10_dataset_folder_path, normalize, one_hot_encode)"
   ]
  },
  {
   "cell_type": "markdown",
   "metadata": {},
   "source": [
    "# Check Point\n",
    "This is your first checkpoint.  If you ever decide to come back to this notebook or have to restart the notebook, you can start from here.  The preprocessed data has been saved to disk."
   ]
  },
  {
   "cell_type": "code",
   "execution_count": 7,
   "metadata": {
    "collapsed": true
   },
   "outputs": [],
   "source": [
    "\"\"\"\n",
    "DON'T MODIFY ANYTHING IN THIS CELL\n",
    "\"\"\"\n",
    "import pickle\n",
    "import problem_unittests as tests\n",
    "import helper\n",
    "\n",
    "# Load the Preprocessed Validation data\n",
    "valid_features, valid_labels = pickle.load(open('preprocess_validation.p', mode='rb'))"
   ]
  },
  {
   "cell_type": "markdown",
   "metadata": {},
   "source": [
    "## Build the network\n",
    "For the neural network, you'll build each layer into a function.  Most of the code you've seen has been outside of functions. To test your code more thoroughly, we require that you put each layer in a function.  This allows us to give you better feedback and test for simple mistakes using our unittests before you submit your project.\n",
    "\n",
    ">**Note:** If you're finding it hard to dedicate enough time for this course each week, we've provided a small shortcut to this part of the project. In the next couple of problems, you'll have the option to use classes from the [TensorFlow Layers](https://www.tensorflow.org/api_docs/python/tf/layers) or [TensorFlow Layers (contrib)](https://www.tensorflow.org/api_guides/python/contrib.layers) packages to build each layer, except the layers you build in the \"Convolutional and Max Pooling Layer\" section.  TF Layers is similar to Keras's and TFLearn's abstraction to layers, so it's easy to pickup.\n",
    "\n",
    ">However, if you would like to get the most out of this course, try to solve all the problems _without_ using anything from the TF Layers packages. You **can** still use classes from other packages that happen to have the same name as ones you find in TF Layers! For example, instead of using the TF Layers version of the `conv2d` class, [tf.layers.conv2d](https://www.tensorflow.org/api_docs/python/tf/layers/conv2d), you would want to use the TF Neural Network version of `conv2d`, [tf.nn.conv2d](https://www.tensorflow.org/api_docs/python/tf/nn/conv2d). \n",
    "\n",
    "Let's begin!\n",
    "\n",
    "### Input\n",
    "The neural network needs to read the image data, one-hot encoded labels, and dropout keep probability. Implement the following functions\n",
    "* Implement `neural_net_image_input`\n",
    " * Return a [TF Placeholder](https://www.tensorflow.org/api_docs/python/tf/placeholder)\n",
    " * Set the shape using `image_shape` with batch size set to `None`.\n",
    " * Name the TensorFlow placeholder \"x\" using the TensorFlow `name` parameter in the [TF Placeholder](https://www.tensorflow.org/api_docs/python/tf/placeholder).\n",
    "* Implement `neural_net_label_input`\n",
    " * Return a [TF Placeholder](https://www.tensorflow.org/api_docs/python/tf/placeholder)\n",
    " * Set the shape using `n_classes` with batch size set to `None`.\n",
    " * Name the TensorFlow placeholder \"y\" using the TensorFlow `name` parameter in the [TF Placeholder](https://www.tensorflow.org/api_docs/python/tf/placeholder).\n",
    "* Implement `neural_net_keep_prob_input`\n",
    " * Return a [TF Placeholder](https://www.tensorflow.org/api_docs/python/tf/placeholder) for dropout keep probability.\n",
    " * Name the TensorFlow placeholder \"keep_prob\" using the TensorFlow `name` parameter in the [TF Placeholder](https://www.tensorflow.org/api_docs/python/tf/placeholder).\n",
    "\n",
    "These names will be used at the end of the project to load your saved model.\n",
    "\n",
    "Note: `None` for shapes in TensorFlow allow for a dynamic size."
   ]
  },
  {
   "cell_type": "code",
   "execution_count": 9,
   "metadata": {
    "collapsed": false
   },
   "outputs": [
    {
     "name": "stdout",
     "output_type": "stream",
     "text": [
      "Image Input Tests Passed.\n",
      "Label Input Tests Passed.\n",
      "Keep Prob Tests Passed.\n"
     ]
    }
   ],
   "source": [
    "import tensorflow as tf\n",
    "\n",
    "def neural_net_image_input(image_shape):\n",
    "    \"\"\"\n",
    "    Return a Tensor for a batch of image input\n",
    "    : image_shape: Shape of the images\n",
    "    : return: Tensor for image input.\n",
    "    \"\"\"\n",
    "    # TODO: Implement Function\n",
    "    return tf.placeholder(tf.float32, (None, *image_shape), name=\"x\")\n",
    "\n",
    "\n",
    "def neural_net_label_input(n_classes):\n",
    "    \"\"\"\n",
    "    Return a Tensor for a batch of label input\n",
    "    : n_classes: Number of classes\n",
    "    : return: Tensor for label input.\n",
    "    \"\"\"\n",
    "    # TODO: Implement Function\n",
    "    return tf.placeholder(tf.float32, (None, n_classes), name=\"y\")\n",
    "\n",
    "\n",
    "def neural_net_keep_prob_input():\n",
    "    \"\"\"\n",
    "    Return a Tensor for keep probability\n",
    "    : return: Tensor for keep probability.\n",
    "    \"\"\"\n",
    "    # TODO: Implement Function\n",
    "    return tf.placeholder(tf.float32, name=\"keep_prob\")\n",
    "\n",
    "\n",
    "\"\"\"\n",
    "DON'T MODIFY ANYTHING IN THIS CELL THAT IS BELOW THIS LINE\n",
    "\"\"\"\n",
    "tf.reset_default_graph()\n",
    "tests.test_nn_image_inputs(neural_net_image_input)\n",
    "tests.test_nn_label_inputs(neural_net_label_input)\n",
    "tests.test_nn_keep_prob_inputs(neural_net_keep_prob_input)"
   ]
  },
  {
   "cell_type": "markdown",
   "metadata": {},
   "source": [
    "### Convolution and Max Pooling Layer\n",
    "Convolution layers have a lot of success with images. For this code cell, you should implement the function `conv2d_maxpool` to apply convolution then max pooling:\n",
    "* Create the weight and bias using `conv_ksize`, `conv_num_outputs` and the shape of `x_tensor`.\n",
    "* Apply a convolution to `x_tensor` using weight and `conv_strides`.\n",
    " * We recommend you use same padding, but you're welcome to use any padding.\n",
    "* Add bias\n",
    "* Add a nonlinear activation to the convolution.\n",
    "* Apply Max Pooling using `pool_ksize` and `pool_strides`.\n",
    " * We recommend you use same padding, but you're welcome to use any padding.\n",
    "\n",
    "**Note:** You **can't** use [TensorFlow Layers](https://www.tensorflow.org/api_docs/python/tf/layers) or [TensorFlow Layers (contrib)](https://www.tensorflow.org/api_guides/python/contrib.layers) for **this** layer, but you can still use TensorFlow's [Neural Network](https://www.tensorflow.org/api_docs/python/tf/nn) package. You may still use the shortcut option for all the **other** layers."
   ]
  },
  {
   "cell_type": "code",
   "execution_count": 11,
   "metadata": {
    "collapsed": false
   },
   "outputs": [
    {
     "name": "stdout",
     "output_type": "stream",
     "text": [
      "Tests Passed\n"
     ]
    }
   ],
   "source": [
    "def conv2d_maxpool(x_tensor, conv_num_outputs, conv_ksize, conv_strides, pool_ksize, pool_strides):\n",
    "    \"\"\"\n",
    "    Apply convolution then max pooling to x_tensor\n",
    "    :param x_tensor: TensorFlow Tensor\n",
    "    :param conv_num_outputs: Number of outputs for the convolutional layer\n",
    "    :param conv_ksize: kernal size 2-D Tuple for the convolutional layer\n",
    "    :param conv_strides: Stride 2-D Tuple for convolution\n",
    "    :param pool_ksize: kernal size 2-D Tuple for pool\n",
    "    :param pool_strides: Stride 2-D Tuple for pool\n",
    "    : return: A tensor that represents convolution and max pooling of x_tensor\n",
    "    \"\"\"\n",
    "    # TODO: Implement Function\n",
    "    \n",
    "    # first we create weight and bias variables:\n",
    "    # set helper shapes\n",
    "    input_shape = int(x_tensor.shape[3])\n",
    "    output_shape = conv_num_outputs\n",
    "    weight_shape = [*conv_ksize, input_shape, output_shape]\n",
    "    # now create vars\n",
    "    weight = tf.Variable(tf.random_normal(weight_shape, stddev=0.1))\n",
    "    bias = tf.Variable(tf.zeros(output_shape))\n",
    "    \n",
    "    # here we initialize a 2D convolutional layer\n",
    "    # we use SAME as padding\n",
    "    conv_network = tf.nn.conv2d(x_tensor, weight, [1, *conv_strides, 1], padding=\"SAME\")\n",
    "    \n",
    "    # we add bias\n",
    "    conv_network = tf.nn.bias_add(conv_network, bias)\n",
    "    \n",
    "    # now we add max pooling\n",
    "    strides = [1, *pool_strides, 1]\n",
    "    ksize = [1, *conv_ksize, 1]\n",
    "    conv_network = tf.nn.max_pool(conv_network, ksize, strides, padding=\"SAME\")\n",
    "    \n",
    "    # add RELU function\n",
    "    conv_network = tf.nn.relu(conv_network)\n",
    "    \n",
    "    return conv_network\n",
    "\n",
    "\n",
    "\"\"\"\n",
    "DON'T MODIFY ANYTHING IN THIS CELL THAT IS BELOW THIS LINE\n",
    "\"\"\"\n",
    "tests.test_con_pool(conv2d_maxpool)"
   ]
  },
  {
   "cell_type": "markdown",
   "metadata": {},
   "source": [
    "### Flatten Layer\n",
    "Implement the `flatten` function to change the dimension of `x_tensor` from a 4-D tensor to a 2-D tensor.  The output should be the shape (*Batch Size*, *Flattened Image Size*). Shortcut option: you can use classes from the [TensorFlow Layers](https://www.tensorflow.org/api_docs/python/tf/layers) or [TensorFlow Layers (contrib)](https://www.tensorflow.org/api_guides/python/contrib.layers) packages for this layer. For more of a challenge, only use other TensorFlow packages."
   ]
  },
  {
   "cell_type": "code",
   "execution_count": 12,
   "metadata": {
    "collapsed": false
   },
   "outputs": [
    {
     "name": "stdout",
     "output_type": "stream",
     "text": [
      "Tests Passed\n"
     ]
    }
   ],
   "source": [
    "def flatten(x_tensor):\n",
    "    \"\"\"\n",
    "    Flatten x_tensor to (Batch Size, Flattened Image Size)\n",
    "    : x_tensor: A tensor of size (Batch Size, ...), where ... are the image dimensions.\n",
    "    : return: A tensor of size (Batch Size, Flattened Image Size).\n",
    "    \"\"\"\n",
    "    # TODO: Implement Function\n",
    "    return tf.contrib.layers.flatten(x_tensor)\n",
    "\n",
    "\n",
    "\"\"\"\n",
    "DON'T MODIFY ANYTHING IN THIS CELL THAT IS BELOW THIS LINE\n",
    "\"\"\"\n",
    "tests.test_flatten(flatten)"
   ]
  },
  {
   "cell_type": "markdown",
   "metadata": {},
   "source": [
    "### Fully-Connected Layer\n",
    "Implement the `fully_conn` function to apply a fully connected layer to `x_tensor` with the shape (*Batch Size*, *num_outputs*). Shortcut option: you can use classes from the [TensorFlow Layers](https://www.tensorflow.org/api_docs/python/tf/layers) or [TensorFlow Layers (contrib)](https://www.tensorflow.org/api_guides/python/contrib.layers) packages for this layer. For more of a challenge, only use other TensorFlow packages."
   ]
  },
  {
   "cell_type": "code",
   "execution_count": 40,
   "metadata": {
    "collapsed": false
   },
   "outputs": [
    {
     "name": "stdout",
     "output_type": "stream",
     "text": [
      "Tests Passed\n"
     ]
    }
   ],
   "source": [
    "def fully_conn(x_tensor, num_outputs):\n",
    "    \"\"\"\n",
    "    Apply a fully connected layer to x_tensor using weight and bias\n",
    "    : x_tensor: A 2-D tensor where the first dimension is batch size.\n",
    "    : num_outputs: The number of output that the new tensor should be.\n",
    "    : return: A 2-D tensor where the second dimension is num_outputs.\n",
    "    \"\"\"\n",
    "    # TODO: Implement Function\n",
    "    layer = tf.contrib.layers.fully_connected(x_tensor, num_outputs)\n",
    "    return tf.nn.relu(layer)\n",
    "\n",
    "\n",
    "\"\"\"\n",
    "DON'T MODIFY ANYTHING IN THIS CELL THAT IS BELOW THIS LINE\n",
    "\"\"\"\n",
    "tests.test_fully_conn(fully_conn)"
   ]
  },
  {
   "cell_type": "markdown",
   "metadata": {},
   "source": [
    "### Output Layer\n",
    "Implement the `output` function to apply a fully connected layer to `x_tensor` with the shape (*Batch Size*, *num_outputs*). Shortcut option: you can use classes from the [TensorFlow Layers](https://www.tensorflow.org/api_docs/python/tf/layers) or [TensorFlow Layers (contrib)](https://www.tensorflow.org/api_guides/python/contrib.layers) packages for this layer. For more of a challenge, only use other TensorFlow packages.\n",
    "\n",
    "**Note:** Activation, softmax, or cross entropy should **not** be applied to this."
   ]
  },
  {
   "cell_type": "code",
   "execution_count": 41,
   "metadata": {
    "collapsed": false
   },
   "outputs": [
    {
     "name": "stdout",
     "output_type": "stream",
     "text": [
      "Tests Passed\n"
     ]
    }
   ],
   "source": [
    "def output(x_tensor, num_outputs):\n",
    "    \"\"\"\n",
    "    Apply a output layer to x_tensor using weight and bias\n",
    "    : x_tensor: A 2-D tensor where the first dimension is batch size.\n",
    "    : num_outputs: The number of output that the new tensor should be.\n",
    "    : return: A 2-D tensor where the second dimension is num_outputs.\n",
    "    \"\"\"\n",
    "    # TODO: Implement Function\n",
    "    return tf.contrib.layers.fully_connected(x_tensor, num_outputs, None)\n",
    "\n",
    "\n",
    "\"\"\"\n",
    "DON'T MODIFY ANYTHING IN THIS CELL THAT IS BELOW THIS LINE\n",
    "\"\"\"\n",
    "tests.test_output(output)"
   ]
  },
  {
   "cell_type": "markdown",
   "metadata": {},
   "source": [
    "### Create Convolutional Model\n",
    "Implement the function `conv_net` to create a convolutional neural network model. The function takes in a batch of images, `x`, and outputs logits.  Use the layers you created above to create this model:\n",
    "\n",
    "* Apply 1, 2, or 3 Convolution and Max Pool layers\n",
    "* Apply a Flatten Layer\n",
    "* Apply 1, 2, or 3 Fully Connected Layers\n",
    "* Apply an Output Layer\n",
    "* Return the output\n",
    "* Apply [TensorFlow's Dropout](https://www.tensorflow.org/api_docs/python/tf/nn/dropout) to one or more layers in the model using `keep_prob`. "
   ]
  },
  {
   "cell_type": "code",
   "execution_count": 49,
   "metadata": {
    "collapsed": false
   },
   "outputs": [
    {
     "name": "stdout",
     "output_type": "stream",
     "text": [
      "Neural Network Built!\n"
     ]
    }
   ],
   "source": [
    "def conv_net(x, keep_prob):\n",
    "    \"\"\"\n",
    "    Create a convolutional neural network model\n",
    "    : x: Placeholder tensor that holds image data.\n",
    "    : keep_prob: Placeholder tensor that hold dropout keep probability.\n",
    "    : return: Tensor that represents logits\n",
    "    \"\"\"\n",
    "    # Hyper parameters\n",
    "    output_layers = [64, 64, 512]\n",
    "    conv_ksizes = [(3, 3), (3, 3), (3, 3)]\n",
    "    conv_strides = [(1, 1), (2, 2), (1, 1)]\n",
    "    pool_ksizes = [(2, 2), (2, 2), (2, 2)]\n",
    "    pool_strides = [(2, 2), (2, 2), (2, 2)]\n",
    "\n",
    "    fc_outputs = [512, 256]\n",
    "\n",
    "    number_classes = 10\n",
    "    \n",
    "    # TODO: Apply 1, 2, or 3 Convolution and Max Pool layers\n",
    "    #    Play around with different number of outputs, kernel size and stride\n",
    "    # Function Definition from Above:\n",
    "    #    conv2d_maxpool(x_tensor, conv_num_outputs, conv_ksize, conv_strides, pool_ksize, pool_strides)\n",
    "    conv_layer_1 = conv2d_maxpool(x,\n",
    "                           output_layers[0],\n",
    "                           conv_ksizes[0],\n",
    "                           conv_strides[0],\n",
    "                           pool_ksizes[0],\n",
    "                           pool_strides[0])\n",
    "    conv_layer_2 = conv2d_maxpool(conv_layer_1,\n",
    "                           output_layers[1],\n",
    "                           conv_ksizes[1],\n",
    "                           conv_strides[1],\n",
    "                           pool_ksizes[1],\n",
    "                           pool_strides[1])\n",
    "    conv_layer_3 = conv2d_maxpool(conv_layer_2,\n",
    "                           output_layers[2],\n",
    "                           conv_ksizes[2],\n",
    "                           conv_strides[2],\n",
    "                           pool_ksizes[2],\n",
    "                           pool_strides[2])\n",
    "    # TODO: Apply a Flatten Layer\n",
    "    # Function Definition from Above:\n",
    "    #   flatten(x_tensor)\n",
    "    flatten_layer = flatten(conv_layer_3)\n",
    "\n",
    "    # TODO: Apply 1, 2, or 3 Fully Connected Layers\n",
    "    #    Play around with different number of outputs\n",
    "    # Function Definition from Above:\n",
    "    #   fully_conn(x_tensor, num_outputs)\n",
    "    # Layer 1\n",
    "    fc_layer_1 = fully_conn(flatten_layer, fc_outputs[0])\n",
    "    fc_layer_1 = tf.nn.dropout(fc_layer_1, keep_prob)\n",
    "    \n",
    "    # Layer 2\n",
    "    fc_layer_2 = fully_conn(fc_layer_1, fc_outputs[1])\n",
    "    fc_layer_2 = tf.nn.dropout(fc_layer_2, keep_prob)\n",
    "    \n",
    "    # TODO: Apply an Output Layer\n",
    "    #    Set this to the number of classes\n",
    "    # Function Definition from Above:\n",
    "    #   output(x_tensor, num_outputs)\n",
    "    output_layer = output(fc_layer_2, number_classes)\n",
    "    \n",
    "    # TODO: return output\n",
    "    return output_layer\n",
    "\n",
    "\n",
    "\"\"\"\n",
    "DON'T MODIFY ANYTHING IN THIS CELL THAT IS BELOW THIS LINE\n",
    "\"\"\"\n",
    "\n",
    "##############################\n",
    "## Build the Neural Network ##\n",
    "##############################\n",
    "\n",
    "# Remove previous weights, bias, inputs, etc..\n",
    "tf.reset_default_graph()\n",
    "\n",
    "# Inputs\n",
    "x = neural_net_image_input((32, 32, 3))\n",
    "y = neural_net_label_input(10)\n",
    "keep_prob = neural_net_keep_prob_input()\n",
    "\n",
    "# Model\n",
    "logits = conv_net(x, keep_prob)\n",
    "\n",
    "# Name logits Tensor, so that is can be loaded from disk after training\n",
    "logits = tf.identity(logits, name='logits')\n",
    "\n",
    "# Loss and Optimizer\n",
    "cost = tf.reduce_mean(tf.nn.softmax_cross_entropy_with_logits(logits=logits, labels=y))\n",
    "optimizer = tf.train.AdamOptimizer().minimize(cost)\n",
    "\n",
    "# Accuracy\n",
    "correct_pred = tf.equal(tf.argmax(logits, 1), tf.argmax(y, 1))\n",
    "accuracy = tf.reduce_mean(tf.cast(correct_pred, tf.float32), name='accuracy')\n",
    "\n",
    "tests.test_conv_net(conv_net)"
   ]
  },
  {
   "cell_type": "markdown",
   "metadata": {},
   "source": [
    "## Train the Neural Network\n",
    "### Single Optimization\n",
    "Implement the function `train_neural_network` to do a single optimization.  The optimization should use `optimizer` to optimize in `session` with a `feed_dict` of the following:\n",
    "* `x` for image input\n",
    "* `y` for labels\n",
    "* `keep_prob` for keep probability for dropout\n",
    "\n",
    "This function will be called for each batch, so `tf.global_variables_initializer()` has already been called.\n",
    "\n",
    "Note: Nothing needs to be returned. This function is only optimizing the neural network."
   ]
  },
  {
   "cell_type": "code",
   "execution_count": 43,
   "metadata": {
    "collapsed": false
   },
   "outputs": [
    {
     "name": "stdout",
     "output_type": "stream",
     "text": [
      "Tests Passed\n"
     ]
    }
   ],
   "source": [
    "def train_neural_network(session, optimizer, keep_probability, feature_batch, label_batch):\n",
    "    \"\"\"\n",
    "    Optimize the session on a batch of images and labels\n",
    "    : session: Current TensorFlow session\n",
    "    : optimizer: TensorFlow optimizer function\n",
    "    : keep_probability: keep probability\n",
    "    : feature_batch: Batch of Numpy image data\n",
    "    : label_batch: Batch of Numpy label data\n",
    "    \"\"\"\n",
    "    # TODO: Implement Function\n",
    "    feed_dict = {x: feature_batch, y: label_batch, keep_prob: keep_probability}\n",
    "    session.run(optimizer, feed_dict=feed_dict)\n",
    "\n",
    "\n",
    "\"\"\"\n",
    "DON'T MODIFY ANYTHING IN THIS CELL THAT IS BELOW THIS LINE\n",
    "\"\"\"\n",
    "tests.test_train_nn(train_neural_network)"
   ]
  },
  {
   "cell_type": "markdown",
   "metadata": {},
   "source": [
    "### Show Stats\n",
    "Implement the function `print_stats` to print loss and validation accuracy.  Use the global variables `valid_features` and `valid_labels` to calculate validation accuracy.  Use a keep probability of `1.0` to calculate the loss and validation accuracy."
   ]
  },
  {
   "cell_type": "code",
   "execution_count": 44,
   "metadata": {
    "collapsed": true
   },
   "outputs": [],
   "source": [
    "def print_stats(session, feature_batch, label_batch, cost, accuracy):\n",
    "    \"\"\"\n",
    "    Print information about loss and validation accuracy\n",
    "    : session: Current TensorFlow session\n",
    "    : feature_batch: Batch of Numpy image data\n",
    "    : label_batch: Batch of Numpy label data\n",
    "    : cost: TensorFlow cost function\n",
    "    : accuracy: TensorFlow accuracy function\n",
    "    \"\"\"\n",
    "    # TODO: Implement Function\n",
    "    loss_feed_dict = {x: feature_batch, y: label_batch, keep_prob: 1.0}\n",
    "    loss = session.run(cost, feed_dict=loss_feed_dict)\n",
    "    \n",
    "    accuracy_feed_dict = {x: valid_features, y: valid_labels, keep_prob: 1.0}\n",
    "    valid_accuracy = session.run(accuracy, feed_dict=accuracy_feed_dict)\n",
    "    \n",
    "    print('Loss: {:.4f} Validation Accuracy: {:.4f}'.format(loss, valid_accuracy))"
   ]
  },
  {
   "cell_type": "markdown",
   "metadata": {},
   "source": [
    "### Hyperparameters\n",
    "Tune the following parameters:\n",
    "* Set `epochs` to the number of iterations until the network stops learning or start overfitting\n",
    "* Set `batch_size` to the highest number that your machine has memory for.  Most people set them to common sizes of memory:\n",
    " * 64\n",
    " * 128\n",
    " * 256\n",
    " * ...\n",
    "* Set `keep_probability` to the probability of keeping a node using dropout"
   ]
  },
  {
   "cell_type": "code",
   "execution_count": 45,
   "metadata": {
    "collapsed": true
   },
   "outputs": [],
   "source": [
    "# TODO: Tune Parameters\n",
    "epochs = 50\n",
    "batch_size = 512\n",
    "keep_probability = 0.7"
   ]
  },
  {
   "cell_type": "markdown",
   "metadata": {},
   "source": [
    "### Train on a Single CIFAR-10 Batch\n",
    "Instead of training the neural network on all the CIFAR-10 batches of data, let's use a single batch. This should save time while you iterate on the model to get a better accuracy.  Once the final validation accuracy is 50% or greater, run the model on all the data in the next section."
   ]
  },
  {
   "cell_type": "code",
   "execution_count": 46,
   "metadata": {
    "collapsed": false
   },
   "outputs": [
    {
     "name": "stdout",
     "output_type": "stream",
     "text": [
      "Checking the Training on a Single Batch...\n",
      "Epoch  1, CIFAR-10 Batch 1:  Loss: 2.3026 Validation Accuracy: 0.0978\n",
      "Epoch  2, CIFAR-10 Batch 1:  Loss: 2.3026 Validation Accuracy: 0.0978\n",
      "Epoch  3, CIFAR-10 Batch 1:  Loss: 2.2787 Validation Accuracy: 0.1162\n",
      "Epoch  4, CIFAR-10 Batch 1:  Loss: 2.2233 Validation Accuracy: 0.1832\n",
      "Epoch  5, CIFAR-10 Batch 1:  Loss: 2.0889 Validation Accuracy: 0.2806\n",
      "Epoch  6, CIFAR-10 Batch 1:  Loss: 1.9034 Validation Accuracy: 0.3380\n",
      "Epoch  7, CIFAR-10 Batch 1:  Loss: 1.7746 Validation Accuracy: 0.3838\n",
      "Epoch  8, CIFAR-10 Batch 1:  Loss: 1.7318 Validation Accuracy: 0.4122\n",
      "Epoch  9, CIFAR-10 Batch 1:  Loss: 1.5475 Validation Accuracy: 0.4354\n",
      "Epoch 10, CIFAR-10 Batch 1:  Loss: 1.4620 Validation Accuracy: 0.4606\n",
      "Epoch 11, CIFAR-10 Batch 1:  Loss: 1.3920 Validation Accuracy: 0.4738\n",
      "Epoch 12, CIFAR-10 Batch 1:  Loss: 1.2738 Validation Accuracy: 0.4912\n",
      "Epoch 13, CIFAR-10 Batch 1:  Loss: 1.2229 Validation Accuracy: 0.5048\n",
      "Epoch 14, CIFAR-10 Batch 1:  Loss: 1.0065 Validation Accuracy: 0.5412\n",
      "Epoch 15, CIFAR-10 Batch 1:  Loss: 1.0069 Validation Accuracy: 0.5384\n",
      "Epoch 16, CIFAR-10 Batch 1:  Loss: 0.9569 Validation Accuracy: 0.5432\n",
      "Epoch 17, CIFAR-10 Batch 1:  Loss: 0.8813 Validation Accuracy: 0.5536\n",
      "Epoch 18, CIFAR-10 Batch 1:  Loss: 0.8210 Validation Accuracy: 0.5678\n",
      "Epoch 19, CIFAR-10 Batch 1:  Loss: 0.7718 Validation Accuracy: 0.5714\n",
      "Epoch 20, CIFAR-10 Batch 1:  Loss: 0.7371 Validation Accuracy: 0.5676\n",
      "Epoch 21, CIFAR-10 Batch 1:  Loss: 0.7011 Validation Accuracy: 0.5604\n",
      "Epoch 22, CIFAR-10 Batch 1:  Loss: 0.6311 Validation Accuracy: 0.5832\n",
      "Epoch 23, CIFAR-10 Batch 1:  Loss: 0.6007 Validation Accuracy: 0.5752\n",
      "Epoch 24, CIFAR-10 Batch 1:  Loss: 0.5795 Validation Accuracy: 0.5696\n",
      "Epoch 25, CIFAR-10 Batch 1:  Loss: 0.5096 Validation Accuracy: 0.5862\n",
      "Epoch 26, CIFAR-10 Batch 1:  Loss: 0.5020 Validation Accuracy: 0.5836\n",
      "Epoch 27, CIFAR-10 Batch 1:  Loss: 0.4959 Validation Accuracy: 0.5572\n",
      "Epoch 28, CIFAR-10 Batch 1:  Loss: 0.4997 Validation Accuracy: 0.5734\n",
      "Epoch 29, CIFAR-10 Batch 1:  Loss: 0.4115 Validation Accuracy: 0.5842\n",
      "Epoch 30, CIFAR-10 Batch 1:  Loss: 0.4035 Validation Accuracy: 0.5926\n",
      "Epoch 31, CIFAR-10 Batch 1:  Loss: 0.4032 Validation Accuracy: 0.5902\n",
      "Epoch 32, CIFAR-10 Batch 1:  Loss: 0.3869 Validation Accuracy: 0.5764\n",
      "Epoch 33, CIFAR-10 Batch 1:  Loss: 0.3519 Validation Accuracy: 0.5838\n",
      "Epoch 34, CIFAR-10 Batch 1:  Loss: 0.3005 Validation Accuracy: 0.5884\n",
      "Epoch 35, CIFAR-10 Batch 1:  Loss: 0.2693 Validation Accuracy: 0.5956\n",
      "Epoch 36, CIFAR-10 Batch 1:  Loss: 0.2872 Validation Accuracy: 0.5904\n",
      "Epoch 37, CIFAR-10 Batch 1:  Loss: 0.2617 Validation Accuracy: 0.5912\n",
      "Epoch 38, CIFAR-10 Batch 1:  Loss: 0.2554 Validation Accuracy: 0.5884\n",
      "Epoch 39, CIFAR-10 Batch 1:  Loss: 0.2923 Validation Accuracy: 0.5750\n",
      "Epoch 40, CIFAR-10 Batch 1:  Loss: 0.2555 Validation Accuracy: 0.5796\n",
      "Epoch 41, CIFAR-10 Batch 1:  Loss: 0.2580 Validation Accuracy: 0.5750\n",
      "Epoch 42, CIFAR-10 Batch 1:  Loss: 0.2602 Validation Accuracy: 0.5810\n",
      "Epoch 43, CIFAR-10 Batch 1:  Loss: 0.2292 Validation Accuracy: 0.5638\n",
      "Epoch 44, CIFAR-10 Batch 1:  Loss: 0.1742 Validation Accuracy: 0.5720\n",
      "Epoch 45, CIFAR-10 Batch 1:  Loss: 0.1776 Validation Accuracy: 0.5802\n",
      "Epoch 46, CIFAR-10 Batch 1:  Loss: 0.1783 Validation Accuracy: 0.5714\n",
      "Epoch 47, CIFAR-10 Batch 1:  Loss: 0.1566 Validation Accuracy: 0.5680\n",
      "Epoch 48, CIFAR-10 Batch 1:  Loss: 0.1702 Validation Accuracy: 0.5606\n",
      "Epoch 49, CIFAR-10 Batch 1:  Loss: 0.1747 Validation Accuracy: 0.5702\n",
      "Epoch 50, CIFAR-10 Batch 1:  Loss: 0.1671 Validation Accuracy: 0.5626\n"
     ]
    }
   ],
   "source": [
    "\"\"\"\n",
    "DON'T MODIFY ANYTHING IN THIS CELL\n",
    "\"\"\"\n",
    "print('Checking the Training on a Single Batch...')\n",
    "with tf.Session() as sess:\n",
    "    # Initializing the variables\n",
    "    sess.run(tf.global_variables_initializer())\n",
    "    \n",
    "    # Training cycle\n",
    "    for epoch in range(epochs):\n",
    "        batch_i = 1\n",
    "        for batch_features, batch_labels in helper.load_preprocess_training_batch(batch_i, batch_size):\n",
    "            train_neural_network(sess, optimizer, keep_probability, batch_features, batch_labels)\n",
    "        print('Epoch {:>2}, CIFAR-10 Batch {}:  '.format(epoch + 1, batch_i), end='')\n",
    "        print_stats(sess, batch_features, batch_labels, cost, accuracy)"
   ]
  },
  {
   "cell_type": "markdown",
   "metadata": {},
   "source": [
    "### Fully Train the Model\n",
    "Now that you got a good accuracy with a single CIFAR-10 batch, try it with all five batches."
   ]
  },
  {
   "cell_type": "code",
   "execution_count": 47,
   "metadata": {
    "collapsed": false
   },
   "outputs": [
    {
     "name": "stdout",
     "output_type": "stream",
     "text": [
      "Training...\n",
      "Epoch  1, CIFAR-10 Batch 1:  Loss: 2.2676 Validation Accuracy: 0.1522\n",
      "Epoch  1, CIFAR-10 Batch 2:  Loss: 2.0652 Validation Accuracy: 0.2620\n",
      "Epoch  1, CIFAR-10 Batch 3:  Loss: 1.9552 Validation Accuracy: 0.3214\n",
      "Epoch  1, CIFAR-10 Batch 4:  Loss: 1.7430 Validation Accuracy: 0.3598\n",
      "Epoch  1, CIFAR-10 Batch 5:  Loss: 1.6932 Validation Accuracy: 0.3932\n",
      "Epoch  2, CIFAR-10 Batch 1:  Loss: 1.7121 Validation Accuracy: 0.4168\n",
      "Epoch  2, CIFAR-10 Batch 2:  Loss: 1.4694 Validation Accuracy: 0.4424\n",
      "Epoch  2, CIFAR-10 Batch 3:  Loss: 1.2849 Validation Accuracy: 0.4688\n",
      "Epoch  2, CIFAR-10 Batch 4:  Loss: 1.2534 Validation Accuracy: 0.4986\n",
      "Epoch  2, CIFAR-10 Batch 5:  Loss: 1.2993 Validation Accuracy: 0.5206\n",
      "Epoch  3, CIFAR-10 Batch 1:  Loss: 1.3027 Validation Accuracy: 0.5334\n",
      "Epoch  3, CIFAR-10 Batch 2:  Loss: 1.1951 Validation Accuracy: 0.5292\n",
      "Epoch  3, CIFAR-10 Batch 3:  Loss: 1.0887 Validation Accuracy: 0.5354\n",
      "Epoch  3, CIFAR-10 Batch 4:  Loss: 1.1006 Validation Accuracy: 0.5580\n",
      "Epoch  3, CIFAR-10 Batch 5:  Loss: 1.1476 Validation Accuracy: 0.5698\n",
      "Epoch  4, CIFAR-10 Batch 1:  Loss: 1.1463 Validation Accuracy: 0.5726\n",
      "Epoch  4, CIFAR-10 Batch 2:  Loss: 1.0879 Validation Accuracy: 0.5580\n",
      "Epoch  4, CIFAR-10 Batch 3:  Loss: 0.9725 Validation Accuracy: 0.5688\n",
      "Epoch  4, CIFAR-10 Batch 4:  Loss: 0.9786 Validation Accuracy: 0.5888\n",
      "Epoch  4, CIFAR-10 Batch 5:  Loss: 1.0314 Validation Accuracy: 0.5964\n",
      "Epoch  5, CIFAR-10 Batch 1:  Loss: 1.0757 Validation Accuracy: 0.5804\n",
      "Epoch  5, CIFAR-10 Batch 2:  Loss: 1.0562 Validation Accuracy: 0.5906\n",
      "Epoch  5, CIFAR-10 Batch 3:  Loss: 0.8937 Validation Accuracy: 0.5806\n",
      "Epoch  5, CIFAR-10 Batch 4:  Loss: 0.9004 Validation Accuracy: 0.6022\n",
      "Epoch  5, CIFAR-10 Batch 5:  Loss: 0.9510 Validation Accuracy: 0.6078\n",
      "Epoch  6, CIFAR-10 Batch 1:  Loss: 0.9820 Validation Accuracy: 0.6194\n",
      "Epoch  6, CIFAR-10 Batch 2:  Loss: 0.9244 Validation Accuracy: 0.6206\n",
      "Epoch  6, CIFAR-10 Batch 3:  Loss: 0.8073 Validation Accuracy: 0.6152\n",
      "Epoch  6, CIFAR-10 Batch 4:  Loss: 0.8310 Validation Accuracy: 0.6264\n",
      "Epoch  6, CIFAR-10 Batch 5:  Loss: 0.8563 Validation Accuracy: 0.6326\n",
      "Epoch  7, CIFAR-10 Batch 1:  Loss: 0.9672 Validation Accuracy: 0.6178\n",
      "Epoch  7, CIFAR-10 Batch 2:  Loss: 0.9109 Validation Accuracy: 0.6090\n",
      "Epoch  7, CIFAR-10 Batch 3:  Loss: 0.7429 Validation Accuracy: 0.6368\n",
      "Epoch  7, CIFAR-10 Batch 4:  Loss: 0.7693 Validation Accuracy: 0.6440\n",
      "Epoch  7, CIFAR-10 Batch 5:  Loss: 0.8064 Validation Accuracy: 0.6358\n",
      "Epoch  8, CIFAR-10 Batch 1:  Loss: 0.8966 Validation Accuracy: 0.6370\n",
      "Epoch  8, CIFAR-10 Batch 2:  Loss: 0.8259 Validation Accuracy: 0.6274\n",
      "Epoch  8, CIFAR-10 Batch 3:  Loss: 0.7220 Validation Accuracy: 0.6460\n",
      "Epoch  8, CIFAR-10 Batch 4:  Loss: 0.7116 Validation Accuracy: 0.6514\n",
      "Epoch  8, CIFAR-10 Batch 5:  Loss: 0.7406 Validation Accuracy: 0.6550\n",
      "Epoch  9, CIFAR-10 Batch 1:  Loss: 0.8890 Validation Accuracy: 0.6290\n",
      "Epoch  9, CIFAR-10 Batch 2:  Loss: 0.7691 Validation Accuracy: 0.6390\n",
      "Epoch  9, CIFAR-10 Batch 3:  Loss: 0.6413 Validation Accuracy: 0.6538\n",
      "Epoch  9, CIFAR-10 Batch 4:  Loss: 0.6724 Validation Accuracy: 0.6542\n",
      "Epoch  9, CIFAR-10 Batch 5:  Loss: 0.7000 Validation Accuracy: 0.6654\n",
      "Epoch 10, CIFAR-10 Batch 1:  Loss: 0.7918 Validation Accuracy: 0.6548\n",
      "Epoch 10, CIFAR-10 Batch 2:  Loss: 0.7481 Validation Accuracy: 0.6428\n",
      "Epoch 10, CIFAR-10 Batch 3:  Loss: 0.6329 Validation Accuracy: 0.6482\n",
      "Epoch 10, CIFAR-10 Batch 4:  Loss: 0.6378 Validation Accuracy: 0.6620\n",
      "Epoch 10, CIFAR-10 Batch 5:  Loss: 0.6373 Validation Accuracy: 0.6742\n",
      "Epoch 11, CIFAR-10 Batch 1:  Loss: 0.7152 Validation Accuracy: 0.6694\n",
      "Epoch 11, CIFAR-10 Batch 2:  Loss: 0.7046 Validation Accuracy: 0.6432\n",
      "Epoch 11, CIFAR-10 Batch 3:  Loss: 0.5774 Validation Accuracy: 0.6642\n",
      "Epoch 11, CIFAR-10 Batch 4:  Loss: 0.5789 Validation Accuracy: 0.6710\n",
      "Epoch 11, CIFAR-10 Batch 5:  Loss: 0.5976 Validation Accuracy: 0.6846\n",
      "Epoch 12, CIFAR-10 Batch 1:  Loss: 0.6767 Validation Accuracy: 0.6694\n",
      "Epoch 12, CIFAR-10 Batch 2:  Loss: 0.6509 Validation Accuracy: 0.6456\n",
      "Epoch 12, CIFAR-10 Batch 3:  Loss: 0.5407 Validation Accuracy: 0.6744\n",
      "Epoch 12, CIFAR-10 Batch 4:  Loss: 0.5573 Validation Accuracy: 0.6728\n",
      "Epoch 12, CIFAR-10 Batch 5:  Loss: 0.5596 Validation Accuracy: 0.6818\n",
      "Epoch 13, CIFAR-10 Batch 1:  Loss: 0.6316 Validation Accuracy: 0.6774\n",
      "Epoch 13, CIFAR-10 Batch 2:  Loss: 0.6102 Validation Accuracy: 0.6630\n",
      "Epoch 13, CIFAR-10 Batch 3:  Loss: 0.5018 Validation Accuracy: 0.6830\n",
      "Epoch 13, CIFAR-10 Batch 4:  Loss: 0.5188 Validation Accuracy: 0.6834\n",
      "Epoch 13, CIFAR-10 Batch 5:  Loss: 0.5138 Validation Accuracy: 0.6840\n",
      "Epoch 14, CIFAR-10 Batch 1:  Loss: 0.6302 Validation Accuracy: 0.6722\n",
      "Epoch 14, CIFAR-10 Batch 2:  Loss: 0.5888 Validation Accuracy: 0.6578\n",
      "Epoch 14, CIFAR-10 Batch 3:  Loss: 0.4863 Validation Accuracy: 0.6804\n",
      "Epoch 14, CIFAR-10 Batch 4:  Loss: 0.4767 Validation Accuracy: 0.6950\n",
      "Epoch 14, CIFAR-10 Batch 5:  Loss: 0.4833 Validation Accuracy: 0.6868\n",
      "Epoch 15, CIFAR-10 Batch 1:  Loss: 0.6871 Validation Accuracy: 0.6620\n",
      "Epoch 15, CIFAR-10 Batch 2:  Loss: 0.5354 Validation Accuracy: 0.6712\n",
      "Epoch 15, CIFAR-10 Batch 3:  Loss: 0.4694 Validation Accuracy: 0.6914\n",
      "Epoch 15, CIFAR-10 Batch 4:  Loss: 0.4510 Validation Accuracy: 0.6868\n",
      "Epoch 15, CIFAR-10 Batch 5:  Loss: 0.5334 Validation Accuracy: 0.6752\n",
      "Epoch 16, CIFAR-10 Batch 1:  Loss: 0.5633 Validation Accuracy: 0.6876\n",
      "Epoch 16, CIFAR-10 Batch 2:  Loss: 0.4948 Validation Accuracy: 0.6740\n",
      "Epoch 16, CIFAR-10 Batch 3:  Loss: 0.4553 Validation Accuracy: 0.6836\n",
      "Epoch 16, CIFAR-10 Batch 4:  Loss: 0.4532 Validation Accuracy: 0.6922\n",
      "Epoch 16, CIFAR-10 Batch 5:  Loss: 0.4795 Validation Accuracy: 0.6830\n",
      "Epoch 17, CIFAR-10 Batch 1:  Loss: 0.5678 Validation Accuracy: 0.6766\n",
      "Epoch 17, CIFAR-10 Batch 2:  Loss: 0.4663 Validation Accuracy: 0.6824\n",
      "Epoch 17, CIFAR-10 Batch 3:  Loss: 0.4231 Validation Accuracy: 0.6852\n",
      "Epoch 17, CIFAR-10 Batch 4:  Loss: 0.4217 Validation Accuracy: 0.6928\n",
      "Epoch 17, CIFAR-10 Batch 5:  Loss: 0.4735 Validation Accuracy: 0.6782\n",
      "Epoch 18, CIFAR-10 Batch 1:  Loss: 0.5322 Validation Accuracy: 0.6756\n",
      "Epoch 18, CIFAR-10 Batch 2:  Loss: 0.4867 Validation Accuracy: 0.6922\n",
      "Epoch 18, CIFAR-10 Batch 3:  Loss: 0.4052 Validation Accuracy: 0.6954\n",
      "Epoch 18, CIFAR-10 Batch 4:  Loss: 0.3801 Validation Accuracy: 0.7040\n",
      "Epoch 18, CIFAR-10 Batch 5:  Loss: 0.4293 Validation Accuracy: 0.6832\n",
      "Epoch 19, CIFAR-10 Batch 1:  Loss: 0.4812 Validation Accuracy: 0.6846\n",
      "Epoch 19, CIFAR-10 Batch 2:  Loss: 0.4277 Validation Accuracy: 0.7000\n",
      "Epoch 19, CIFAR-10 Batch 3:  Loss: 0.3779 Validation Accuracy: 0.6920\n",
      "Epoch 19, CIFAR-10 Batch 4:  Loss: 0.3554 Validation Accuracy: 0.6992\n",
      "Epoch 19, CIFAR-10 Batch 5:  Loss: 0.4256 Validation Accuracy: 0.6796\n",
      "Epoch 20, CIFAR-10 Batch 1:  Loss: 0.4410 Validation Accuracy: 0.6854\n",
      "Epoch 20, CIFAR-10 Batch 2:  Loss: 0.4056 Validation Accuracy: 0.6930\n",
      "Epoch 20, CIFAR-10 Batch 3:  Loss: 0.3568 Validation Accuracy: 0.6958\n",
      "Epoch 20, CIFAR-10 Batch 4:  Loss: 0.3554 Validation Accuracy: 0.6916\n",
      "Epoch 20, CIFAR-10 Batch 5:  Loss: 0.3732 Validation Accuracy: 0.6932\n",
      "Epoch 21, CIFAR-10 Batch 1:  Loss: 0.4259 Validation Accuracy: 0.6782\n",
      "Epoch 21, CIFAR-10 Batch 2:  Loss: 0.4070 Validation Accuracy: 0.6906\n",
      "Epoch 21, CIFAR-10 Batch 3:  Loss: 0.3249 Validation Accuracy: 0.7012\n",
      "Epoch 21, CIFAR-10 Batch 4:  Loss: 0.3616 Validation Accuracy: 0.6770\n",
      "Epoch 21, CIFAR-10 Batch 5:  Loss: 0.3547 Validation Accuracy: 0.6970\n",
      "Epoch 22, CIFAR-10 Batch 1:  Loss: 0.4109 Validation Accuracy: 0.6848\n",
      "Epoch 22, CIFAR-10 Batch 2:  Loss: 0.3975 Validation Accuracy: 0.6838\n",
      "Epoch 22, CIFAR-10 Batch 3:  Loss: 0.3518 Validation Accuracy: 0.6854\n",
      "Epoch 22, CIFAR-10 Batch 4:  Loss: 0.3305 Validation Accuracy: 0.6876\n",
      "Epoch 22, CIFAR-10 Batch 5:  Loss: 0.3243 Validation Accuracy: 0.6938\n",
      "Epoch 23, CIFAR-10 Batch 1:  Loss: 0.4120 Validation Accuracy: 0.6836\n",
      "Epoch 23, CIFAR-10 Batch 2:  Loss: 0.3943 Validation Accuracy: 0.6768\n",
      "Epoch 23, CIFAR-10 Batch 3:  Loss: 0.3376 Validation Accuracy: 0.6810\n",
      "Epoch 23, CIFAR-10 Batch 4:  Loss: 0.3144 Validation Accuracy: 0.6938\n",
      "Epoch 23, CIFAR-10 Batch 5:  Loss: 0.3163 Validation Accuracy: 0.6892\n",
      "Epoch 24, CIFAR-10 Batch 1:  Loss: 0.3815 Validation Accuracy: 0.6922\n",
      "Epoch 24, CIFAR-10 Batch 2:  Loss: 0.3483 Validation Accuracy: 0.6942\n",
      "Epoch 24, CIFAR-10 Batch 3:  Loss: 0.3224 Validation Accuracy: 0.6826\n",
      "Epoch 24, CIFAR-10 Batch 4:  Loss: 0.3004 Validation Accuracy: 0.6934\n",
      "Epoch 24, CIFAR-10 Batch 5:  Loss: 0.3273 Validation Accuracy: 0.6914\n",
      "Epoch 25, CIFAR-10 Batch 1:  Loss: 0.3860 Validation Accuracy: 0.6818\n",
      "Epoch 25, CIFAR-10 Batch 2:  Loss: 0.3472 Validation Accuracy: 0.6896\n",
      "Epoch 25, CIFAR-10 Batch 3:  Loss: 0.3257 Validation Accuracy: 0.6902\n",
      "Epoch 25, CIFAR-10 Batch 4:  Loss: 0.2989 Validation Accuracy: 0.7034\n",
      "Epoch 25, CIFAR-10 Batch 5:  Loss: 0.3170 Validation Accuracy: 0.6856\n",
      "Epoch 26, CIFAR-10 Batch 1:  Loss: 0.3473 Validation Accuracy: 0.7002\n",
      "Epoch 26, CIFAR-10 Batch 2:  Loss: 0.3150 Validation Accuracy: 0.6948\n",
      "Epoch 26, CIFAR-10 Batch 3:  Loss: 0.2937 Validation Accuracy: 0.6858\n",
      "Epoch 26, CIFAR-10 Batch 4:  Loss: 0.2921 Validation Accuracy: 0.6886\n",
      "Epoch 26, CIFAR-10 Batch 5:  Loss: 0.2795 Validation Accuracy: 0.6988\n",
      "Epoch 27, CIFAR-10 Batch 1:  Loss: 0.3591 Validation Accuracy: 0.6890\n",
      "Epoch 27, CIFAR-10 Batch 2:  Loss: 0.3016 Validation Accuracy: 0.7010\n",
      "Epoch 27, CIFAR-10 Batch 3:  Loss: 0.2632 Validation Accuracy: 0.6964\n",
      "Epoch 27, CIFAR-10 Batch 4:  Loss: 0.2627 Validation Accuracy: 0.6888\n",
      "Epoch 27, CIFAR-10 Batch 5:  Loss: 0.2722 Validation Accuracy: 0.6986\n",
      "Epoch 28, CIFAR-10 Batch 1:  Loss: 0.3421 Validation Accuracy: 0.6730\n",
      "Epoch 28, CIFAR-10 Batch 2:  Loss: 0.2919 Validation Accuracy: 0.7004\n",
      "Epoch 28, CIFAR-10 Batch 3:  Loss: 0.2437 Validation Accuracy: 0.6970\n",
      "Epoch 28, CIFAR-10 Batch 4:  Loss: 0.2719 Validation Accuracy: 0.6800\n",
      "Epoch 28, CIFAR-10 Batch 5:  Loss: 0.2504 Validation Accuracy: 0.7028\n",
      "Epoch 29, CIFAR-10 Batch 1:  Loss: 0.2870 Validation Accuracy: 0.6842\n",
      "Epoch 29, CIFAR-10 Batch 2:  Loss: 0.3051 Validation Accuracy: 0.6960\n",
      "Epoch 29, CIFAR-10 Batch 3:  Loss: 0.2506 Validation Accuracy: 0.7044\n",
      "Epoch 29, CIFAR-10 Batch 4:  Loss: 0.2662 Validation Accuracy: 0.6786\n",
      "Epoch 29, CIFAR-10 Batch 5:  Loss: 0.2252 Validation Accuracy: 0.6960\n",
      "Epoch 30, CIFAR-10 Batch 1:  Loss: 0.3654 Validation Accuracy: 0.6746\n",
      "Epoch 30, CIFAR-10 Batch 2:  Loss: 0.3061 Validation Accuracy: 0.6860\n",
      "Epoch 30, CIFAR-10 Batch 3:  Loss: 0.2396 Validation Accuracy: 0.6982\n",
      "Epoch 30, CIFAR-10 Batch 4:  Loss: 0.2579 Validation Accuracy: 0.6820\n",
      "Epoch 30, CIFAR-10 Batch 5:  Loss: 0.2356 Validation Accuracy: 0.7036\n",
      "Epoch 31, CIFAR-10 Batch 1:  Loss: 0.3303 Validation Accuracy: 0.6614\n",
      "Epoch 31, CIFAR-10 Batch 2:  Loss: 0.2716 Validation Accuracy: 0.6812\n",
      "Epoch 31, CIFAR-10 Batch 3:  Loss: 0.2615 Validation Accuracy: 0.6826\n",
      "Epoch 31, CIFAR-10 Batch 4:  Loss: 0.2351 Validation Accuracy: 0.6948\n",
      "Epoch 31, CIFAR-10 Batch 5:  Loss: 0.2504 Validation Accuracy: 0.6884\n",
      "Epoch 32, CIFAR-10 Batch 1:  Loss: 0.3130 Validation Accuracy: 0.6732\n",
      "Epoch 32, CIFAR-10 Batch 2:  Loss: 0.2314 Validation Accuracy: 0.7000\n",
      "Epoch 32, CIFAR-10 Batch 3:  Loss: 0.2347 Validation Accuracy: 0.6946\n",
      "Epoch 32, CIFAR-10 Batch 4:  Loss: 0.2078 Validation Accuracy: 0.6956\n",
      "Epoch 32, CIFAR-10 Batch 5:  Loss: 0.2599 Validation Accuracy: 0.6830\n",
      "Epoch 33, CIFAR-10 Batch 1:  Loss: 0.2601 Validation Accuracy: 0.6860\n",
      "Epoch 33, CIFAR-10 Batch 2:  Loss: 0.2161 Validation Accuracy: 0.7002\n",
      "Epoch 33, CIFAR-10 Batch 3:  Loss: 0.1964 Validation Accuracy: 0.6968\n",
      "Epoch 33, CIFAR-10 Batch 4:  Loss: 0.1867 Validation Accuracy: 0.6908\n",
      "Epoch 33, CIFAR-10 Batch 5:  Loss: 0.2278 Validation Accuracy: 0.6946\n",
      "Epoch 34, CIFAR-10 Batch 1:  Loss: 0.2444 Validation Accuracy: 0.6912\n",
      "Epoch 34, CIFAR-10 Batch 2:  Loss: 0.1975 Validation Accuracy: 0.7036\n",
      "Epoch 34, CIFAR-10 Batch 3:  Loss: 0.1966 Validation Accuracy: 0.7016\n",
      "Epoch 34, CIFAR-10 Batch 4:  Loss: 0.1796 Validation Accuracy: 0.6966\n",
      "Epoch 34, CIFAR-10 Batch 5:  Loss: 0.2148 Validation Accuracy: 0.7010\n",
      "Epoch 35, CIFAR-10 Batch 1:  Loss: 0.2000 Validation Accuracy: 0.6930\n",
      "Epoch 35, CIFAR-10 Batch 2:  Loss: 0.1896 Validation Accuracy: 0.7098\n",
      "Epoch 35, CIFAR-10 Batch 3:  Loss: 0.1764 Validation Accuracy: 0.6956\n",
      "Epoch 35, CIFAR-10 Batch 4:  Loss: 0.1985 Validation Accuracy: 0.6702\n",
      "Epoch 35, CIFAR-10 Batch 5:  Loss: 0.2204 Validation Accuracy: 0.6870\n",
      "Epoch 36, CIFAR-10 Batch 1:  Loss: 0.2354 Validation Accuracy: 0.6890\n",
      "Epoch 36, CIFAR-10 Batch 2:  Loss: 0.1915 Validation Accuracy: 0.7012\n",
      "Epoch 36, CIFAR-10 Batch 3:  Loss: 0.1778 Validation Accuracy: 0.6984\n",
      "Epoch 36, CIFAR-10 Batch 4:  Loss: 0.2133 Validation Accuracy: 0.6676\n",
      "Epoch 36, CIFAR-10 Batch 5:  Loss: 0.2195 Validation Accuracy: 0.6902\n",
      "Epoch 37, CIFAR-10 Batch 1:  Loss: 0.2714 Validation Accuracy: 0.6758\n",
      "Epoch 37, CIFAR-10 Batch 2:  Loss: 0.2087 Validation Accuracy: 0.6908\n",
      "Epoch 37, CIFAR-10 Batch 3:  Loss: 0.2284 Validation Accuracy: 0.6830\n",
      "Epoch 37, CIFAR-10 Batch 4:  Loss: 0.1813 Validation Accuracy: 0.6820\n",
      "Epoch 37, CIFAR-10 Batch 5:  Loss: 0.2157 Validation Accuracy: 0.6848\n",
      "Epoch 38, CIFAR-10 Batch 1:  Loss: 0.1956 Validation Accuracy: 0.6974\n",
      "Epoch 38, CIFAR-10 Batch 2:  Loss: 0.1871 Validation Accuracy: 0.6954\n",
      "Epoch 38, CIFAR-10 Batch 3:  Loss: 0.2134 Validation Accuracy: 0.6920\n",
      "Epoch 38, CIFAR-10 Batch 4:  Loss: 0.2157 Validation Accuracy: 0.6752\n",
      "Epoch 38, CIFAR-10 Batch 5:  Loss: 0.2676 Validation Accuracy: 0.6792\n",
      "Epoch 39, CIFAR-10 Batch 1:  Loss: 0.2595 Validation Accuracy: 0.6720\n",
      "Epoch 39, CIFAR-10 Batch 2:  Loss: 0.1939 Validation Accuracy: 0.7016\n",
      "Epoch 39, CIFAR-10 Batch 3:  Loss: 0.2463 Validation Accuracy: 0.6708\n",
      "Epoch 39, CIFAR-10 Batch 4:  Loss: 0.2605 Validation Accuracy: 0.6546\n",
      "Epoch 39, CIFAR-10 Batch 5:  Loss: 0.2486 Validation Accuracy: 0.6810\n",
      "Epoch 40, CIFAR-10 Batch 1:  Loss: 0.2302 Validation Accuracy: 0.6912\n",
      "Epoch 40, CIFAR-10 Batch 2:  Loss: 0.2177 Validation Accuracy: 0.6872\n",
      "Epoch 40, CIFAR-10 Batch 3:  Loss: 0.1833 Validation Accuracy: 0.7040\n",
      "Epoch 40, CIFAR-10 Batch 4:  Loss: 0.2443 Validation Accuracy: 0.6580\n",
      "Epoch 40, CIFAR-10 Batch 5:  Loss: 0.2171 Validation Accuracy: 0.7064\n",
      "Epoch 41, CIFAR-10 Batch 1:  Loss: 0.2069 Validation Accuracy: 0.6970\n",
      "Epoch 41, CIFAR-10 Batch 2:  Loss: 0.2279 Validation Accuracy: 0.6824\n",
      "Epoch 41, CIFAR-10 Batch 3:  Loss: 0.1630 Validation Accuracy: 0.7074\n",
      "Epoch 41, CIFAR-10 Batch 4:  Loss: 0.2238 Validation Accuracy: 0.6768\n",
      "Epoch 41, CIFAR-10 Batch 5:  Loss: 0.2517 Validation Accuracy: 0.6904\n",
      "Epoch 42, CIFAR-10 Batch 1:  Loss: 0.2200 Validation Accuracy: 0.6916\n",
      "Epoch 42, CIFAR-10 Batch 2:  Loss: 0.1962 Validation Accuracy: 0.6898\n",
      "Epoch 42, CIFAR-10 Batch 3:  Loss: 0.1574 Validation Accuracy: 0.6968\n",
      "Epoch 42, CIFAR-10 Batch 4:  Loss: 0.1658 Validation Accuracy: 0.6928\n",
      "Epoch 42, CIFAR-10 Batch 5:  Loss: 0.2117 Validation Accuracy: 0.6900\n",
      "Epoch 43, CIFAR-10 Batch 1:  Loss: 0.1997 Validation Accuracy: 0.6914\n",
      "Epoch 43, CIFAR-10 Batch 2:  Loss: 0.1769 Validation Accuracy: 0.7008\n",
      "Epoch 43, CIFAR-10 Batch 3:  Loss: 0.1578 Validation Accuracy: 0.6982\n",
      "Epoch 43, CIFAR-10 Batch 4:  Loss: 0.1519 Validation Accuracy: 0.7026\n",
      "Epoch 43, CIFAR-10 Batch 5:  Loss: 0.1906 Validation Accuracy: 0.6930\n",
      "Epoch 44, CIFAR-10 Batch 1:  Loss: 0.1621 Validation Accuracy: 0.6982\n",
      "Epoch 44, CIFAR-10 Batch 2:  Loss: 0.1442 Validation Accuracy: 0.7046\n",
      "Epoch 44, CIFAR-10 Batch 3:  Loss: 0.1418 Validation Accuracy: 0.7030\n",
      "Epoch 44, CIFAR-10 Batch 4:  Loss: 0.1294 Validation Accuracy: 0.6982\n",
      "Epoch 44, CIFAR-10 Batch 5:  Loss: 0.1735 Validation Accuracy: 0.6928\n",
      "Epoch 45, CIFAR-10 Batch 1:  Loss: 0.1422 Validation Accuracy: 0.7056\n",
      "Epoch 45, CIFAR-10 Batch 2:  Loss: 0.1278 Validation Accuracy: 0.7004\n",
      "Epoch 45, CIFAR-10 Batch 3:  Loss: 0.1291 Validation Accuracy: 0.7020\n",
      "Epoch 45, CIFAR-10 Batch 4:  Loss: 0.1123 Validation Accuracy: 0.7006\n",
      "Epoch 45, CIFAR-10 Batch 5:  Loss: 0.1300 Validation Accuracy: 0.6916\n",
      "Epoch 46, CIFAR-10 Batch 1:  Loss: 0.1311 Validation Accuracy: 0.7086\n",
      "Epoch 46, CIFAR-10 Batch 2:  Loss: 0.1373 Validation Accuracy: 0.7008\n",
      "Epoch 46, CIFAR-10 Batch 3:  Loss: 0.1493 Validation Accuracy: 0.7002\n",
      "Epoch 46, CIFAR-10 Batch 4:  Loss: 0.1110 Validation Accuracy: 0.7020\n",
      "Epoch 46, CIFAR-10 Batch 5:  Loss: 0.1247 Validation Accuracy: 0.6926\n",
      "Epoch 47, CIFAR-10 Batch 1:  Loss: 0.1310 Validation Accuracy: 0.7036\n",
      "Epoch 47, CIFAR-10 Batch 2:  Loss: 0.1211 Validation Accuracy: 0.6962\n",
      "Epoch 47, CIFAR-10 Batch 3:  Loss: 0.1149 Validation Accuracy: 0.6994\n",
      "Epoch 47, CIFAR-10 Batch 4:  Loss: 0.1089 Validation Accuracy: 0.6980\n",
      "Epoch 47, CIFAR-10 Batch 5:  Loss: 0.1140 Validation Accuracy: 0.6936\n",
      "Epoch 48, CIFAR-10 Batch 1:  Loss: 0.1083 Validation Accuracy: 0.7072\n",
      "Epoch 48, CIFAR-10 Batch 2:  Loss: 0.1135 Validation Accuracy: 0.6938\n",
      "Epoch 48, CIFAR-10 Batch 3:  Loss: 0.1172 Validation Accuracy: 0.7004\n",
      "Epoch 48, CIFAR-10 Batch 4:  Loss: 0.0956 Validation Accuracy: 0.7030\n",
      "Epoch 48, CIFAR-10 Batch 5:  Loss: 0.1091 Validation Accuracy: 0.7016\n",
      "Epoch 49, CIFAR-10 Batch 1:  Loss: 0.1032 Validation Accuracy: 0.7182\n",
      "Epoch 49, CIFAR-10 Batch 2:  Loss: 0.0974 Validation Accuracy: 0.6966\n",
      "Epoch 49, CIFAR-10 Batch 3:  Loss: 0.0894 Validation Accuracy: 0.7006\n",
      "Epoch 49, CIFAR-10 Batch 4:  Loss: 0.1051 Validation Accuracy: 0.6978\n",
      "Epoch 49, CIFAR-10 Batch 5:  Loss: 0.0961 Validation Accuracy: 0.6920\n",
      "Epoch 50, CIFAR-10 Batch 1:  Loss: 0.0964 Validation Accuracy: 0.7094\n",
      "Epoch 50, CIFAR-10 Batch 2:  Loss: 0.0957 Validation Accuracy: 0.6998\n",
      "Epoch 50, CIFAR-10 Batch 3:  Loss: 0.0861 Validation Accuracy: 0.7016\n",
      "Epoch 50, CIFAR-10 Batch 4:  Loss: 0.0939 Validation Accuracy: 0.7014\n",
      "Epoch 50, CIFAR-10 Batch 5:  Loss: 0.1004 Validation Accuracy: 0.6854\n"
     ]
    }
   ],
   "source": [
    "\"\"\"\n",
    "DON'T MODIFY ANYTHING IN THIS CELL\n",
    "\"\"\"\n",
    "save_model_path = './image_classification'\n",
    "\n",
    "print('Training...')\n",
    "with tf.Session() as sess:\n",
    "    # Initializing the variables\n",
    "    sess.run(tf.global_variables_initializer())\n",
    "    \n",
    "    # Training cycle\n",
    "    for epoch in range(epochs):\n",
    "        # Loop over all batches\n",
    "        n_batches = 5\n",
    "        for batch_i in range(1, n_batches + 1):\n",
    "            for batch_features, batch_labels in helper.load_preprocess_training_batch(batch_i, batch_size):\n",
    "                train_neural_network(sess, optimizer, keep_probability, batch_features, batch_labels)\n",
    "            print('Epoch {:>2}, CIFAR-10 Batch {}:  '.format(epoch + 1, batch_i), end='')\n",
    "            print_stats(sess, batch_features, batch_labels, cost, accuracy)\n",
    "            \n",
    "    # Save Model\n",
    "    saver = tf.train.Saver()\n",
    "    save_path = saver.save(sess, save_model_path)"
   ]
  },
  {
   "cell_type": "markdown",
   "metadata": {},
   "source": [
    "# Checkpoint\n",
    "The model has been saved to disk.\n",
    "## Test Model\n",
    "Test your model against the test dataset.  This will be your final accuracy. You should have an accuracy greater than 50%. If you don't, keep tweaking the model architecture and parameters."
   ]
  },
  {
   "cell_type": "code",
   "execution_count": 48,
   "metadata": {
    "collapsed": false
   },
   "outputs": [
    {
     "name": "stdout",
     "output_type": "stream",
     "text": [
      "INFO:tensorflow:Restoring parameters from ./image_classification\n",
      "Testing Accuracy: 0.6883961439132691\n",
      "\n"
     ]
    },
    {
     "data": {
      "image/png": "[encoded data removed]",
      "text/plain": [
       "<matplotlib.figure.Figure at 0x7fd2ad771f60>"
      ]
     },
     "metadata": {
      "image/png": {
       "height": 319,
       "width": 355
      }
     },
     "output_type": "display_data"
    }
   ],
   "source": [
    "\"\"\"\n",
    "DON'T MODIFY ANYTHING IN THIS CELL\n",
    "\"\"\"\n",
    "%matplotlib inline\n",
    "%config InlineBackend.figure_format = 'retina'\n",
    "\n",
    "import tensorflow as tf\n",
    "import pickle\n",
    "import helper\n",
    "import random\n",
    "\n",
    "# Set batch size if not already set\n",
    "try:\n",
    "    if batch_size:\n",
    "        pass\n",
    "except NameError:\n",
    "    batch_size = 64\n",
    "\n",
    "save_model_path = './image_classification'\n",
    "n_samples = 4\n",
    "top_n_predictions = 3\n",
    "\n",
    "def test_model():\n",
    "    \"\"\"\n",
    "    Test the saved model against the test dataset\n",
    "    \"\"\"\n",
    "\n",
    "    test_features, test_labels = pickle.load(open('preprocess_test.p', mode='rb'))\n",
    "    loaded_graph = tf.Graph()\n",
    "\n",
    "    with tf.Session(graph=loaded_graph) as sess:\n",
    "        # Load model\n",
    "        loader = tf.train.import_meta_graph(save_model_path + '.meta')\n",
    "        loader.restore(sess, save_model_path)\n",
    "\n",
    "        # Get Tensors from loaded model\n",
    "        loaded_x = loaded_graph.get_tensor_by_name('x:0')\n",
    "        loaded_y = loaded_graph.get_tensor_by_name('y:0')\n",
    "        loaded_keep_prob = loaded_graph.get_tensor_by_name('keep_prob:0')\n",
    "        loaded_logits = loaded_graph.get_tensor_by_name('logits:0')\n",
    "        loaded_acc = loaded_graph.get_tensor_by_name('accuracy:0')\n",
    "        \n",
    "        # Get accuracy in batches for memory limitations\n",
    "        test_batch_acc_total = 0\n",
    "        test_batch_count = 0\n",
    "        \n",
    "        for test_feature_batch, test_label_batch in helper.batch_features_labels(test_features, test_labels, batch_size):\n",
    "            test_batch_acc_total += sess.run(\n",
    "                loaded_acc,\n",
    "                feed_dict={loaded_x: test_feature_batch, loaded_y: test_label_batch, loaded_keep_prob: 1.0})\n",
    "            test_batch_count += 1\n",
    "\n",
    "        print('Testing Accuracy: {}\\n'.format(test_batch_acc_total/test_batch_count))\n",
    "\n",
    "        # Print Random Samples\n",
    "        random_test_features, random_test_labels = tuple(zip(*random.sample(list(zip(test_features, test_labels)), n_samples)))\n",
    "        random_test_predictions = sess.run(\n",
    "            tf.nn.top_k(tf.nn.softmax(loaded_logits), top_n_predictions),\n",
    "            feed_dict={loaded_x: random_test_features, loaded_y: random_test_labels, loaded_keep_prob: 1.0})\n",
    "        helper.display_image_predictions(random_test_features, random_test_labels, random_test_predictions)\n",
    "\n",
    "\n",
    "test_model()"
   ]
  },
  {
   "cell_type": "markdown",
   "metadata": {},
   "source": [
    "## Why 50-80% Accuracy?\n",
    "You might be wondering why you can't get an accuracy any higher. First things first, 50% isn't bad for a simple CNN.  Pure guessing would get you 10% accuracy. However, you might notice people are getting scores [well above 80%](http://rodrigob.github.io/are_we_there_yet/build/classification_datasets_results.html#43494641522d3130).  That's because we haven't taught you all there is to know about neural networks. We still need to cover a few more techniques.\n",
    "## Submitting This Project\n",
    "When submitting this project, make sure to run all the cells before saving the notebook.  Save the notebook file as \"dlnd_image_classification.ipynb\" and save it as a HTML file under \"File\" -> \"Download as\".  Include the \"helper.py\" and \"problem_unittests.py\" files in your submission."
   ]
  }
 ],
 "metadata": {
  "kernelspec": {
   "display_name": "Python 3",
   "language": "python",
   "name": "python3"
  },
  "language_info": {
   "codemirror_mode": {
    "name": "ipython",
    "version": 3
   },
   "file_extension": ".py",
   "mimetype": "text/x-python",
   "name": "python",
   "nbconvert_exporter": "python",
   "pygments_lexer": "ipython3",
   "version": "3.5.3"
  }
 },
 "nbformat": 4,
 "nbformat_minor": 1
}
